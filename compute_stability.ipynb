{
 "cells": [
  {
   "cell_type": "code",
   "execution_count": 1,
   "metadata": {},
   "outputs": [],
   "source": [
    "import numpy as np"
   ]
  },
  {
   "cell_type": "markdown",
   "metadata": {},
   "source": [
    "# COMPUTE STABILITY - INCOMPLETE"
   ]
  },
  {
   "cell_type": "code",
   "execution_count": 2,
   "metadata": {},
   "outputs": [
    {
     "data": {
      "text/plain": [
       "array([[10.        , 11.        ,  0.49307512,  5.        ],\n",
       "       [10.        , 12.        ,  0.49307512,  5.        ],\n",
       "       [11.        ,  0.        ,  1.30856724,  1.        ],\n",
       "       [11.        ,  8.        ,  1.30856724,  1.        ],\n",
       "       [11.        ,  1.        ,  1.30856724,  1.        ],\n",
       "       [11.        ,  6.        ,  1.30856724,  1.        ],\n",
       "       [11.        ,  9.        ,  1.30856724,  1.        ],\n",
       "       [12.        ,  2.        ,  1.62536102,  1.        ],\n",
       "       [12.        ,  5.        ,  1.62536102,  1.        ],\n",
       "       [12.        ,  3.        ,  1.62536102,  1.        ],\n",
       "       [12.        ,  7.        ,  1.62536102,  1.        ],\n",
       "       [12.        ,  4.        ,  1.62536102,  1.        ]])"
      ]
     },
     "execution_count": 2,
     "metadata": {},
     "output_type": "execute_result"
    }
   ],
   "source": [
    "condensed_tree = np.array([\n",
    "    (10, 11, 0.49307512, 5), (10, 12, 0.49307512, 5), (11,  0, 1.30856724, 1),\n",
    "    (11,  8, 1.30856724, 1), (11,  1, 1.30856724, 1), (11,  6, 1.30856724, 1),\n",
    "    (11,  9, 1.30856724, 1), (12,  2, 1.62536102, 1), (12,  5, 1.62536102, 1),\n",
    "    (12,  3, 1.62536102, 1), (12,  7, 1.62536102, 1), (12,  4, 1.62536102, 1)])\n",
    "condensed_tree"
   ]
  },
  {
   "cell_type": "code",
   "execution_count": 3,
   "metadata": {},
   "outputs": [],
   "source": [
    "largest_child = condensed_tree[:,1].max()\n",
    "# largest_child = condensed_tree['child'].max()\n",
    "smallest_cluster = condensed_tree[:,0].min()\n",
    "# smallest_cluster = condensed_tree['parent'].min()\n",
    "\n",
    "num_clusters = (condensed_tree[:,0].max() - smallest_cluster + 1)\n"
   ]
  },
  {
   "cell_type": "code",
   "execution_count": 4,
   "metadata": {},
   "outputs": [],
   "source": [
    "if largest_child < smallest_cluster:\n",
    "    largest_child = smallest_cluster"
   ]
  },
  {
   "cell_type": "code",
   "execution_count": 5,
   "metadata": {},
   "outputs": [],
   "source": [
    "sorted_child_data = np.sort(condensed_tree[:,[1,2]],\n",
    "                            axis=0)\n",
    "sorted_children = sorted_child_data[:,0].copy()\n",
    "sorted_lambdas = sorted_child_data[:,1].copy()\n",
    "births_arr = np.nan * np.ones(int(largest_child) + 1)\n",
    "births = births_arr.copy()\n",
    "# births_arr = np.nan * np.ones(int(largest_child) + 1)\n",
    "# births = (<np.double_t *> births_arr.data)\n",
    "# sorted_children = sorted_child_data['child'].copy()\n",
    "# sorted_lambdas = sorted_child_data['lambda_val'].copy()"
   ]
  },
  {
   "cell_type": "code",
   "execution_count": 6,
   "metadata": {},
   "outputs": [],
   "source": [
    "parents = condensed_tree[:,0]\n",
    "sizes = condensed_tree[:,3]\n",
    "lambdas = condensed_tree[:,2]\n",
    "\n",
    "# parents = condensed_tree['parent']\n",
    "# sizes = condensed_tree['child_size']\n",
    "# lambdas = condensed_tree['lambda_val']"
   ]
  },
  {
   "cell_type": "code",
   "execution_count": 7,
   "metadata": {},
   "outputs": [],
   "source": [
    "current_child = -1\n",
    "min_lambda = 0"
   ]
  },
  {
   "cell_type": "code",
   "execution_count": 8,
   "metadata": {},
   "outputs": [],
   "source": [
    "for row in range(sorted_child_data.shape[0]):\n",
    "    child = sorted_children[row]\n",
    "    lambda_ = sorted_lambdas[row]\n",
    "\n",
    "    if child == current_child:\n",
    "        min_lambda = min(min_lambda, lambda_)\n",
    "    elif current_child != -1:\n",
    "        births[int(current_child)] = min_lambda\n",
    "        current_child = child\n",
    "        min_lambda = lambda_\n",
    "    else:\n",
    "        # Initialize\n",
    "        current_child = child\n",
    "        min_lambda = lambda_\n",
    "if current_child != -1:\n",
    "    births[int(current_child)] = min_lambda\n",
    "births[int(smallest_cluster)] = 0.0"
   ]
  },
  {
   "cell_type": "code",
   "execution_count": 9,
   "metadata": {},
   "outputs": [],
   "source": [
    "#logic for choosing stable clusters\n",
    "result_arr = np.zeros(int(num_clusters))\n",
    "\n",
    "\n",
    "for i in range(condensed_tree.shape[0]):\n",
    "    parent = parents[i]\n",
    "    lambda_ = lambdas[i]\n",
    "    child_size = sizes[i]\n",
    "    result_index = parent - smallest_cluster\n",
    "\n",
    "    result_arr[int(result_index)] += (lambda_ - births[int(parent)]) * child_size\n"
   ]
  },
  {
   "cell_type": "code",
   "execution_count": 10,
   "metadata": {},
   "outputs": [],
   "source": [
    "result_pre_dict = np.vstack((np.arange((smallest_cluster),\n",
    "                                        condensed_tree[:,0].max() + 1),\n",
    "                                result_arr)).T\n"
   ]
  },
  {
   "cell_type": "code",
   "execution_count": 11,
   "metadata": {},
   "outputs": [
    {
     "data": {
      "text/plain": [
       "array([[10.       ,  4.9307512],\n",
       "       [11.       , -1.5839689],\n",
       "       [12.       ,  0.       ]])"
      ]
     },
     "execution_count": 11,
     "metadata": {},
     "output_type": "execute_result"
    }
   ],
   "source": [
    "result_pre_dict"
   ]
  },
  {
   "cell_type": "code",
   "execution_count": 12,
   "metadata": {},
   "outputs": [
    {
     "data": {
      "text/plain": [
       "array([ 4.9307512, -1.5839689,  0.       ])"
      ]
     },
     "execution_count": 12,
     "metadata": {},
     "output_type": "execute_result"
    }
   ],
   "source": [
    "result_arr"
   ]
  },
  {
   "cell_type": "code",
   "execution_count": null,
   "metadata": {},
   "outputs": [],
   "source": []
  }
 ],
 "metadata": {
  "kernelspec": {
   "display_name": "Python 3.6.9 64-bit ('venv')",
   "language": "python",
   "name": "python36964bitvenvaaecf8b33e99450b9e577f6db325a929"
  },
  "language_info": {
   "codemirror_mode": {
    "name": "ipython",
    "version": 3
   },
   "file_extension": ".py",
   "mimetype": "text/x-python",
   "name": "python",
   "nbconvert_exporter": "python",
   "pygments_lexer": "ipython3",
   "version": "3.6.9"
  },
  "metadata": {
   "interpreter": {
    "hash": "b3ab1e47f8be16028753e0c5bff2d689f39d311f3ac7dbc85f001eba133842c5"
   }
  }
 },
 "nbformat": 4,
 "nbformat_minor": 2
}
