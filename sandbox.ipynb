{
 "metadata": {
  "language_info": {
   "codemirror_mode": {
    "name": "ipython",
    "version": 3
   },
   "file_extension": ".py",
   "mimetype": "text/x-python",
   "name": "python",
   "nbconvert_exporter": "python",
   "pygments_lexer": "ipython3",
   "version": "3.9.2"
  },
  "orig_nbformat": 2,
  "kernelspec": {
   "name": "pythonjvsc74a57bd0b3ab1e47f8be16028753e0c5bff2d689f39d311f3ac7dbc85f001eba133842c5",
   "display_name": "Python 3.9.2  ('venv': venv)"
  },
  "metadata": {
   "interpreter": {
    "hash": "b3ab1e47f8be16028753e0c5bff2d689f39d311f3ac7dbc85f001eba133842c5"
   }
  }
 },
 "nbformat": 4,
 "nbformat_minor": 2,
 "cells": [
  {
   "cell_type": "code",
   "execution_count": 56,
   "metadata": {},
   "outputs": [],
   "source": [
    "import numpy as np"
   ]
  },
  {
   "source": [
    "# CONDENSE TREE - INCOMPLETE"
   ],
   "cell_type": "markdown",
   "metadata": {}
  },
  {
   "cell_type": "code",
   "execution_count": 57,
   "metadata": {},
   "outputs": [
    {
     "output_type": "execute_result",
     "data": {
      "text/plain": [
       "array([[ 3.        ,  7.        ,  0.4667349 ,  2.        ],\n",
       "       [10.        ,  5.        ,  0.51406193,  3.        ],\n",
       "       [ 1.        ,  6.        ,  0.53936375,  2.        ],\n",
       "       [ 2.        , 11.        ,  0.61524793,  4.        ],\n",
       "       [13.        ,  4.        ,  0.61524793,  5.        ],\n",
       "       [12.        ,  8.        ,  0.69040949,  3.        ],\n",
       "       [ 0.        , 15.        ,  0.76419459,  4.        ],\n",
       "       [16.        ,  9.        ,  0.76419459,  5.        ],\n",
       "       [17.        , 14.        ,  2.02808855, 10.        ]])"
      ]
     },
     "metadata": {},
     "execution_count": 57
    }
   ],
   "source": [
    "hierarchy = np.array([\n",
    "        [ 3,          7,          0.4667349,   2        ],\n",
    "        [10,          5,          0.51406193,  3        ],\n",
    "        [ 1,          6,          0.53936375,  2        ],\n",
    "        [ 2,         11,          0.61524793,  4        ],\n",
    "        [13,          4,          0.61524793,  5        ],\n",
    "        [12,          8,          0.69040949,  3        ],\n",
    "        [ 0,         15,          0.76419459,  4        ],\n",
    "        [16,          9,          0.76419459,  5        ],\n",
    "        [17,         14,          2.02808855,  10       ]\n",
    "    ])\n",
    "\n",
    "min_cluster_size=10\n",
    "hierarchy"
   ]
  },
  {
   "cell_type": "code",
   "execution_count": 58,
   "metadata": {},
   "outputs": [],
   "source": [
    "def bfs_from_hierarchy(hierarchy, root):\n",
    "\n",
    "    to_process = []\n",
    "    dim = hierarchy.shape[0]\n",
    "    max_node = 2 * dim\n",
    "    num_points = max_node - dim + 1\n",
    "    \n",
    "    to_process = [int(root)]\n",
    "    result = []\n",
    "\n",
    "\n",
    "    while to_process:\n",
    "        result.extend(to_process)\n",
    "        to_process = [x - num_points for x in\n",
    "                        to_process if x >= num_points]\n",
    "        if to_process:\n",
    "            \n",
    "            to_process = hierarchy[to_process,\n",
    "                                    :2].flatten().astype(np.intp).tolist()\n",
    "    return result"
   ]
  },
  {
   "cell_type": "code",
   "execution_count": 59,
   "metadata": {},
   "outputs": [
    {
     "output_type": "stream",
     "name": "stdout",
     "text": [
      "[18, 17, 14, 16, 9, 13, 4, 0, 15, 2, 11, 12, 8, 10, 5, 1, 6, 3, 7]\n18\n"
     ]
    }
   ],
   "source": [
    "INFTY = np.inf\n",
    "root = 2 * hierarchy.shape[0]\n",
    "num_points = root // 2 + 1\n",
    "next_label = num_points + 1\n",
    "\n",
    "node_list = bfs_from_hierarchy(hierarchy, root)\n",
    "print(node_list)\n",
    "print(root)"
   ]
  },
  {
   "cell_type": "code",
   "execution_count": 60,
   "metadata": {},
   "outputs": [],
   "source": [
    "relabel = np.empty(root + 1)\n",
    "relabel[root] = num_points\n",
    "result_list = []\n",
    "ignore = np.zeros(len(node_list))\n",
    "\n",
    "for node in node_list:\n",
    "    if ignore[node] or node < num_points:\n",
    "        continue\n",
    "\n",
    "    children = hierarchy[node - num_points]\n",
    "    left = children[0]\n",
    "    right = children[1]\n",
    "    if children[2] > 0.0:\n",
    "        lambda_value = 1.0 / children[2]\n",
    "    else:\n",
    "        lambda_value = INFTY\n",
    "\n",
    "    if left >= num_points:\n",
    "        left_count = hierarchy[int(left - num_points)][3]\n",
    "    else:\n",
    "        left_count = 1\n",
    "\n",
    "    if right >= num_points:\n",
    "        right_count = hierarchy[int(right - num_points)][3]\n",
    "    else:\n",
    "        right_count = 1\n",
    "\n",
    "    if left_count >= min_cluster_size and right_count >= min_cluster_size:\n",
    "        relabel[left] = next_label\n",
    "        next_label += 1\n",
    "        result_list.append((relabel[node], relabel[left], lambda_value,\n",
    "                            left_count))\n",
    "\n",
    "        relabel[right] = next_label\n",
    "        next_label += 1\n",
    "        result_list.append((relabel[node], relabel[right], lambda_value,\n",
    "                            right_count))\n",
    "\n",
    "    elif left_count < min_cluster_size and right_count < min_cluster_size:\n",
    "        for sub_node in bfs_from_hierarchy(hierarchy, left):\n",
    "            if sub_node < num_points:\n",
    "                result_list.append((relabel[node], sub_node,\n",
    "                                    lambda_value, 1))\n",
    "            ignore[sub_node] = True\n",
    "\n",
    "        for sub_node in bfs_from_hierarchy(hierarchy, right):\n",
    "            if sub_node < num_points:\n",
    "                result_list.append((relabel[node], sub_node,\n",
    "                                    lambda_value, 1))\n",
    "            ignore[sub_node] = True\n",
    "\n",
    "    elif left_count < min_cluster_size:\n",
    "        relabel[right] = relabel[node]\n",
    "        for sub_node in bfs_from_hierarchy(hierarchy, left):\n",
    "            if sub_node < num_points:\n",
    "                result_list.append((relabel[node], sub_node,\n",
    "                                    lambda_value, 1))\n",
    "            ignore[sub_node] = True\n",
    "\n",
    "    else:\n",
    "        relabel[left] = relabel[node]\n",
    "        for sub_node in bfs_from_hierarchy(hierarchy, right):\n",
    "            if sub_node < num_points:\n",
    "                result_list.append((relabel[node], sub_node,\n",
    "                                    lambda_value, 1))\n",
    "            ignore[sub_node] = True\n",
    "\n",
    "\n",
    "    # return np.array(result_list, dtype=[('parent', np.intp),\n",
    "                                        # ('child', np.intp),\n",
    "                                        # ('lambda_val', float),\n",
    "                                        # ('child_size', np.intp)])\n",
    "\n",
    "\n",
    "    # print(result_list)"
   ]
  },
  {
   "cell_type": "code",
   "execution_count": 61,
   "metadata": {},
   "outputs": [
    {
     "output_type": "execute_result",
     "data": {
      "text/plain": [
       "array([[10.        ,  9.        ,  0.49307512,  1.        ],\n",
       "       [10.        ,  0.        ,  0.49307512,  1.        ],\n",
       "       [10.        ,  8.        ,  0.49307512,  1.        ],\n",
       "       [10.        ,  1.        ,  0.49307512,  1.        ],\n",
       "       [10.        ,  6.        ,  0.49307512,  1.        ],\n",
       "       [10.        ,  4.        ,  0.49307512,  1.        ],\n",
       "       [10.        ,  2.        ,  0.49307512,  1.        ],\n",
       "       [10.        ,  5.        ,  0.49307512,  1.        ],\n",
       "       [10.        ,  3.        ,  0.49307512,  1.        ],\n",
       "       [10.        ,  7.        ,  0.49307512,  1.        ]])"
      ]
     },
     "metadata": {},
     "execution_count": 61
    }
   ],
   "source": [
    "condensed_tree = np.array(result_list)\n",
    "condensed_tree"
   ]
  },
  {
   "source": [
    "# COMPUTE STABILITY - INCOMPLETE"
   ],
   "cell_type": "markdown",
   "metadata": {}
  },
  {
   "cell_type": "code",
   "execution_count": 62,
   "metadata": {},
   "outputs": [
    {
     "output_type": "execute_result",
     "data": {
      "text/plain": [
       "array([[10.        , 11.        ,  0.49307512,  5.        ],\n",
       "       [10.        , 12.        ,  0.49307512,  5.        ],\n",
       "       [11.        ,  0.        ,  1.30856724,  1.        ],\n",
       "       [11.        ,  8.        ,  1.30856724,  1.        ],\n",
       "       [11.        ,  1.        ,  1.30856724,  1.        ],\n",
       "       [11.        ,  6.        ,  1.30856724,  1.        ],\n",
       "       [11.        ,  9.        ,  1.30856724,  1.        ],\n",
       "       [12.        ,  2.        ,  1.62536102,  1.        ],\n",
       "       [12.        ,  5.        ,  1.62536102,  1.        ],\n",
       "       [12.        ,  3.        ,  1.62536102,  1.        ],\n",
       "       [12.        ,  7.        ,  1.62536102,  1.        ],\n",
       "       [12.        ,  4.        ,  1.62536102,  1.        ]])"
      ]
     },
     "metadata": {},
     "execution_count": 62
    }
   ],
   "source": [
    "condensed_tree = np.array([\n",
    "    (10, 11, 0.49307512, 5), (10, 12, 0.49307512, 5), (11,  0, 1.30856724, 1),\n",
    "    (11,  8, 1.30856724, 1), (11,  1, 1.30856724, 1), (11,  6, 1.30856724, 1),\n",
    "    (11,  9, 1.30856724, 1), (12,  2, 1.62536102, 1), (12,  5, 1.62536102, 1),\n",
    "    (12,  3, 1.62536102, 1), (12,  7, 1.62536102, 1), (12,  4, 1.62536102, 1)])\n",
    "condensed_tree"
   ]
  },
  {
   "cell_type": "code",
   "execution_count": 63,
   "metadata": {},
   "outputs": [],
   "source": [
    "largest_child = condensed_tree[:,1].max()\n",
    "# largest_child = condensed_tree['child'].max()\n",
    "smallest_cluster = condensed_tree[:,0].min()\n",
    "# smallest_cluster = condensed_tree['parent'].min()\n",
    "\n",
    "num_clusters = (condensed_tree[:,0].max() - smallest_cluster + 1)\n"
   ]
  },
  {
   "cell_type": "code",
   "execution_count": 64,
   "metadata": {},
   "outputs": [],
   "source": [
    "if largest_child < smallest_cluster:\n",
    "    largest_child = smallest_cluster"
   ]
  },
  {
   "cell_type": "code",
   "execution_count": 65,
   "metadata": {},
   "outputs": [],
   "source": [
    "sorted_child_data = np.sort(condensed_tree[:,[1,2]],\n",
    "                            axis=0)\n",
    "sorted_children = sorted_child_data[:,0].copy()\n",
    "sorted_lambdas = sorted_child_data[:,1].copy()\n",
    "births_arr = np.nan * np.ones(int(largest_child) + 1)\n",
    "births = births_arr.copy()\n",
    "# births_arr = np.nan * np.ones(int(largest_child) + 1)\n",
    "# births = (<np.double_t *> births_arr.data)\n",
    "# sorted_children = sorted_child_data['child'].copy()\n",
    "# sorted_lambdas = sorted_child_data['lambda_val'].copy()"
   ]
  },
  {
   "cell_type": "code",
   "execution_count": 66,
   "metadata": {},
   "outputs": [],
   "source": [
    "parents = condensed_tree[:,0]\n",
    "sizes = condensed_tree[:,3]\n",
    "lambdas = condensed_tree[:,2]\n",
    "\n",
    "# parents = condensed_tree['parent']\n",
    "# sizes = condensed_tree['child_size']\n",
    "# lambdas = condensed_tree['lambda_val']"
   ]
  },
  {
   "cell_type": "code",
   "execution_count": 67,
   "metadata": {},
   "outputs": [],
   "source": [
    "current_child = -1\n",
    "min_lambda = 0"
   ]
  },
  {
   "cell_type": "code",
   "execution_count": 68,
   "metadata": {},
   "outputs": [],
   "source": [
    "for row in range(sorted_child_data.shape[0]):\n",
    "    child = sorted_children[row]\n",
    "    lambda_ = sorted_lambdas[row]\n",
    "\n",
    "    if child == current_child:\n",
    "        min_lambda = min(min_lambda, lambda_)\n",
    "    elif current_child != -1:\n",
    "        births[int(current_child)] = min_lambda\n",
    "        current_child = child\n",
    "        min_lambda = lambda_\n",
    "    else:\n",
    "        # Initialize\n",
    "        current_child = child\n",
    "        min_lambda = lambda_\n",
    "if current_child != -1:\n",
    "    births[int(current_child)] = min_lambda\n",
    "births[int(smallest_cluster)] = 0.0"
   ]
  },
  {
   "cell_type": "code",
   "execution_count": 69,
   "metadata": {},
   "outputs": [],
   "source": [
    "#logic for choosing stable clusters\n",
    "result_arr = np.zeros(int(num_clusters))\n",
    "\n",
    "\n",
    "for i in range(condensed_tree.shape[0]):\n",
    "    parent = parents[i]\n",
    "    lambda_ = lambdas[i]\n",
    "    child_size = sizes[i]\n",
    "    result_index = parent - smallest_cluster\n",
    "\n",
    "    result_arr[int(result_index)] += (lambda_ - births[int(parent)]) * child_size\n"
   ]
  },
  {
   "cell_type": "code",
   "execution_count": 70,
   "metadata": {},
   "outputs": [],
   "source": [
    "result_pre_dict = np.vstack((np.arange((smallest_cluster),\n",
    "                                        condensed_tree[:,0].max() + 1),\n",
    "                                result_arr)).T\n"
   ]
  },
  {
   "cell_type": "code",
   "execution_count": 71,
   "metadata": {},
   "outputs": [
    {
     "output_type": "execute_result",
     "data": {
      "text/plain": [
       "array([[10.       ,  4.9307512],\n",
       "       [11.       , -1.5839689],\n",
       "       [12.       ,  0.       ]])"
      ]
     },
     "metadata": {},
     "execution_count": 71
    }
   ],
   "source": [
    "result_pre_dict"
   ]
  },
  {
   "cell_type": "code",
   "execution_count": 72,
   "metadata": {},
   "outputs": [
    {
     "output_type": "execute_result",
     "data": {
      "text/plain": [
       "array([ 4.9307512, -1.5839689,  0.       ])"
      ]
     },
     "metadata": {},
     "execution_count": 72
    }
   ],
   "source": [
    "result_arr"
   ]
  },
  {
   "cell_type": "code",
   "execution_count": null,
   "metadata": {},
   "outputs": [],
   "source": []
  }
 ]
}