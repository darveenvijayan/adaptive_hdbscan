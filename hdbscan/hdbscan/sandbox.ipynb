{
 "cells": [
  {
   "cell_type": "code",
   "execution_count": 27,
   "metadata": {},
   "outputs": [],
   "source": [
    "import numpy as np\n",
    "import sklearn.datasets as data\n",
    "test_data = np.array([[-0.57164688, -0.97735768],\n",
    "                        [-1.10797067, -1.03454204],\n",
    "                        [ 0.7402006 ,  0.56931596],\n",
    "                        [ 0.73285504,  0.84136899],\n",
    "                        [ 1.01393778,  1.12031321],\n",
    "                        [ 0.92635625,  1.04848789],\n",
    "                        [-1.05198656, -0.8509797 ],\n",
    "                        [ 0.81312495,  0.69898712],\n",
    "                        [-0.72161448, -1.24689847],\n",
    "                        [-1.33428595, -0.92862354]])\n",
    "\n",
    "blobs, _ = data.make_blobs(n_samples=50, centers=[(-2,4), (2, 4)], cluster_std=0.3)\n",
    "blobs2, _ = data.make_moons(n_samples=50, noise=0.05)\n",
    "test_data = np.vstack([blobs, blobs2])"
   ]
  },
  {
   "cell_type": "code",
   "execution_count": 40,
   "metadata": {},
   "outputs": [
    {
     "name": "stdout",
     "output_type": "stream",
     "text": [
      "306 µs ± 7.79 µs per loop (mean ± std. dev. of 7 runs, 1000 loops each)\n"
     ]
    }
   ],
   "source": [
    "%%timeit\n",
    "from sklearn.neighbors import KDTree, BallTree\n",
    "import pickle\n",
    "# min_samples=5, \n",
    "# alpha=1.0,\n",
    "# metric='minkowski', \n",
    "# p=2, \n",
    "# l_s=3,\n",
    "# gen_min_span_tree=False\n",
    "\n",
    "# tree = KDTree(test_data)#, metric=m, leaf_size=l_s)\n",
    "\n",
    "tree = KDTree(test_data, metric='minkowski', leaf_size=40)      \n",
    "\n",
    "# Get distance to kth nearest neighbour\n",
    "core_distances = tree.query(test_data, k=5,\n",
    "                            dualtree=True,\n",
    "                            breadth_first=False)[0][:, -1].copy(order='C') # try with breadth_first=True as per actual"
   ]
  },
  {
   "cell_type": "code",
   "execution_count": 3,
   "metadata": {},
   "outputs": [
    {
     "ename": "ModuleNotFoundError",
     "evalue": "No module named '__main__._hdbscan_linkage'; '__main__' is not a package",
     "output_type": "error",
     "traceback": [
      "\u001b[0;31m----------------------------------------------------------------------\u001b[0m",
      "\u001b[0;31mModuleNotFoundError\u001b[0m                  Traceback (most recent call last)",
      "\u001b[0;32m<ipython-input-3-a936a0389adb>\u001b[0m in \u001b[0;36m<module>\u001b[0;34m\u001b[0m\n\u001b[0;32m----> 1\u001b[0;31m from ._hdbscan_linkage import (single_linkage,\n\u001b[0m\u001b[1;32m      2\u001b[0m                                \u001b[0mmst_linkage_core\u001b[0m\u001b[0;34m,\u001b[0m\u001b[0;34m\u001b[0m\u001b[0;34m\u001b[0m\u001b[0m\n\u001b[1;32m      3\u001b[0m                                \u001b[0mmst_linkage_core_vector\u001b[0m\u001b[0;34m,\u001b[0m\u001b[0;34m\u001b[0m\u001b[0;34m\u001b[0m\u001b[0m\n\u001b[1;32m      4\u001b[0m                                label)\n",
      "\u001b[0;31mModuleNotFoundError\u001b[0m: No module named '__main__._hdbscan_linkage'; '__main__' is not a package"
     ]
    }
   ],
   "source": [
    "from ._hdbscan_linkage import (single_linkage,\n",
    "                               mst_linkage_core,\n",
    "                               mst_linkage_core_vector,\n",
    "                               label)"
   ]
  },
  {
   "cell_type": "code",
   "execution_count": null,
   "metadata": {},
   "outputs": [],
   "source": [
    "# Mutual reachability distance is implicit in mst_linkage_core_vector\n",
    "min_spanning_tree = mst_linkage_core_vector(X, core_distances, dist_metric,\n",
    "                                            alpha)"
   ]
  },
  {
   "cell_type": "code",
   "execution_count": 1,
   "metadata": {},
   "outputs": [
    {
     "name": "stdout",
     "output_type": "stream",
     "text": [
      "anyio==2.2.0\n",
      "argon2-cffi==20.1.0\n",
      "async-generator==1.10\n",
      "attrs==20.3.0\n",
      "Babel==2.9.0\n",
      "backcall==0.2.0\n",
      "bleach==3.3.0\n",
      "certifi==2020.12.5\n",
      "cffi==1.14.5\n",
      "chardet==4.0.0\n",
      "contextvars==2.4\n",
      "Cython==0.29.22\n",
      "dataclasses==0.8\n",
      "decorator==4.4.2\n",
      "defusedxml==0.7.1\n",
      "entrypoints==0.3\n",
      "hdbscan==0.8.27\n",
      "idna==3.1\n",
      "immutables==0.15\n",
      "importlib-metadata==3.9.1\n",
      "ipykernel==5.5.2\n",
      "ipython==7.16.1\n",
      "ipython-genutils==0.2.0\n",
      "jedi==0.18.0\n",
      "Jinja2==2.11.3\n",
      "joblib==1.0.1\n",
      "json5==0.9.5\n",
      "jsonschema==3.2.0\n",
      "jupyter-client==6.1.12\n",
      "jupyter-core==4.7.1\n",
      "jupyter-packaging==0.7.12\n",
      "jupyter-server==1.5.1\n",
      "jupyterlab==3.0.12\n",
      "jupyterlab-pygments==0.1.2\n",
      "jupyterlab-server==2.3.0\n",
      "MarkupSafe==1.1.1\n",
      "mistune==0.8.4\n",
      "nbclassic==0.2.6\n",
      "nbclient==0.5.3\n",
      "nbconvert==6.0.7\n",
      "nbformat==5.1.2\n",
      "nest-asyncio==1.5.1\n",
      "notebook==6.3.0\n",
      "numpy==1.19.5\n",
      "packaging==20.9\n",
      "pandocfilters==1.4.3\n",
      "parso==0.8.1\n",
      "pexpect==4.8.0\n",
      "pickleshare==0.7.5\n",
      "pkg-resources==0.0.0\n",
      "prometheus-client==0.9.0\n",
      "prompt-toolkit==3.0.18\n",
      "ptyprocess==0.7.0\n",
      "pycparser==2.20\n",
      "Pygments==2.8.1\n",
      "pyparsing==2.4.7\n",
      "pyrsistent==0.17.3\n",
      "python-dateutil==2.8.1\n",
      "pytz==2021.1\n",
      "pyzmq==22.0.3\n",
      "requests==2.25.1\n",
      "scikit-learn==0.24.1\n",
      "scipy==1.5.4\n",
      "Send2Trash==1.5.0\n",
      "six==1.15.0\n",
      "sniffio==1.2.0\n",
      "terminado==0.9.4\n",
      "testpath==0.4.4\n",
      "threadpoolctl==2.1.0\n",
      "tornado==6.1\n",
      "traitlets==4.3.3\n",
      "typing-extensions==3.7.4.3\n",
      "urllib3==1.26.4\n",
      "wcwidth==0.2.5\n",
      "webencodings==0.5.1\n",
      "zipp==3.4.1\n"
     ]
    }
   ],
   "source": [
    "!pip freeze\n"
   ]
  },
  {
   "cell_type": "code",
   "execution_count": null,
   "metadata": {},
   "outputs": [],
   "source": []
  },
  {
   "cell_type": "code",
   "execution_count": null,
   "metadata": {},
   "outputs": [],
   "source": []
  }
 ],
 "metadata": {
  "kernelspec": {
   "display_name": "Python 3.6.9 64-bit",
   "language": "python",
   "name": "python36964bite49e129c916549868315abf99d194b00"
  },
  "language_info": {
   "codemirror_mode": {
    "name": "ipython",
    "version": 3
   },
   "file_extension": ".py",
   "mimetype": "text/x-python",
   "name": "python",
   "nbconvert_exporter": "python",
   "pygments_lexer": "ipython3",
   "version": "3.6.9"
  }
 },
 "nbformat": 4,
 "nbformat_minor": 4
}
